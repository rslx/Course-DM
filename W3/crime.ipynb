{
 "cells": [
  {
   "cell_type": "markdown",
   "metadata": {},
   "source": [
    "# Oakland Crime Statistics 2011 to 2016\n",
    "数据集共 6 个文件，分别表示 2011～2016 间一年的数据。但是，每个文件包含的列并不完全相同。例如，仅有部分年份的数据含有 `Zip Codes`。"
   ]
  },
  {
   "cell_type": "code",
   "execution_count": 1,
   "metadata": {},
   "outputs": [],
   "source": [
    "import matplotlib.pyplot as plt\n",
    "import pandas as pd"
   ]
  },
  {
   "cell_type": "code",
   "execution_count": 2,
   "metadata": {},
   "outputs": [],
   "source": [
    "data2011 = pd.read_csv('records-for-2011.csv')\n",
    "data2012 = pd.read_csv('records-for-2012.csv')\n",
    "data2013 = pd.read_csv('records-for-2013.csv')\n",
    "data2014 = pd.read_csv('records-for-2014.csv')\n",
    "data2015 = pd.read_csv('records-for-2015.csv')\n",
    "data2016 = pd.read_csv('records-for-2016.csv')"
   ]
  },
  {
   "cell_type": "code",
   "execution_count": 3,
   "metadata": {},
   "outputs": [],
   "source": [
    "data = pd.concat([data2011,data2012,data2013,data2014,data2015,data2016],ignore_index=True,join=\"inner\")"
   ]
  },
  {
   "cell_type": "markdown",
   "metadata": {},
   "source": [
    "有几行是全空行（所有列均为 `NaN`），这些行直接去除。"
   ]
  },
  {
   "cell_type": "code",
   "execution_count": 4,
   "metadata": {},
   "outputs": [],
   "source": [
    "data = data[data[\"Agency\"].notna()]"
   ]
  },
  {
   "cell_type": "code",
   "execution_count": 5,
   "metadata": {},
   "outputs": [
    {
     "data": {
      "text/html": [
       "<div>\n",
       "<style scoped>\n",
       "    .dataframe tbody tr th:only-of-type {\n",
       "        vertical-align: middle;\n",
       "    }\n",
       "\n",
       "    .dataframe tbody tr th {\n",
       "        vertical-align: top;\n",
       "    }\n",
       "\n",
       "    .dataframe thead th {\n",
       "        text-align: right;\n",
       "    }\n",
       "</style>\n",
       "<table border=\"1\" class=\"dataframe\">\n",
       "  <thead>\n",
       "    <tr style=\"text-align: right;\">\n",
       "      <th></th>\n",
       "      <th>Agency</th>\n",
       "      <th>Create Time</th>\n",
       "      <th>Area Id</th>\n",
       "      <th>Beat</th>\n",
       "      <th>Priority</th>\n",
       "      <th>Incident Type Id</th>\n",
       "      <th>Incident Type Description</th>\n",
       "      <th>Event Number</th>\n",
       "      <th>Closed Time</th>\n",
       "    </tr>\n",
       "  </thead>\n",
       "  <tbody>\n",
       "    <tr>\n",
       "      <th>0</th>\n",
       "      <td>OP</td>\n",
       "      <td>2011-01-01T00:00:00.000</td>\n",
       "      <td>1</td>\n",
       "      <td>06X</td>\n",
       "      <td>1.0</td>\n",
       "      <td>PDOA</td>\n",
       "      <td>POSSIBLE DEAD PERSON</td>\n",
       "      <td>LOP110101000001</td>\n",
       "      <td>2011-01-01T00:28:17.000</td>\n",
       "    </tr>\n",
       "    <tr>\n",
       "      <th>1</th>\n",
       "      <td>OP</td>\n",
       "      <td>2011-01-01T00:01:11.000</td>\n",
       "      <td>1</td>\n",
       "      <td>07X</td>\n",
       "      <td>1.0</td>\n",
       "      <td>415GS</td>\n",
       "      <td>415 GUNSHOTS</td>\n",
       "      <td>LOP110101000002</td>\n",
       "      <td>2011-01-01T01:12:56.000</td>\n",
       "    </tr>\n",
       "    <tr>\n",
       "      <th>2</th>\n",
       "      <td>OP</td>\n",
       "      <td>2011-01-01T00:01:25.000</td>\n",
       "      <td>1</td>\n",
       "      <td>10Y</td>\n",
       "      <td>2.0</td>\n",
       "      <td>415GS</td>\n",
       "      <td>415 GUNSHOTS</td>\n",
       "      <td>LOP110101000003</td>\n",
       "      <td>2011-01-01T00:07:20.000</td>\n",
       "    </tr>\n",
       "    <tr>\n",
       "      <th>3</th>\n",
       "      <td>OP</td>\n",
       "      <td>2011-01-01T00:01:35.000</td>\n",
       "      <td>2</td>\n",
       "      <td>21Y</td>\n",
       "      <td>2.0</td>\n",
       "      <td>415GS</td>\n",
       "      <td>415 GUNSHOTS</td>\n",
       "      <td>LOP110101000005</td>\n",
       "      <td>2011-01-01T00:02:28.000</td>\n",
       "    </tr>\n",
       "    <tr>\n",
       "      <th>4</th>\n",
       "      <td>OP</td>\n",
       "      <td>2011-01-01T00:02:10.000</td>\n",
       "      <td>2</td>\n",
       "      <td>20X</td>\n",
       "      <td>1.0</td>\n",
       "      <td>415GS</td>\n",
       "      <td>415 GUNSHOTS</td>\n",
       "      <td>LOP110101000004</td>\n",
       "      <td>2011-01-01T00:50:04.000</td>\n",
       "    </tr>\n",
       "    <tr>\n",
       "      <th>...</th>\n",
       "      <td>...</td>\n",
       "      <td>...</td>\n",
       "      <td>...</td>\n",
       "      <td>...</td>\n",
       "      <td>...</td>\n",
       "      <td>...</td>\n",
       "      <td>...</td>\n",
       "      <td>...</td>\n",
       "      <td>...</td>\n",
       "    </tr>\n",
       "    <tr>\n",
       "      <th>1046382</th>\n",
       "      <td>OP</td>\n",
       "      <td>2016-07-31T23:43:51.000</td>\n",
       "      <td>P1</td>\n",
       "      <td>02Y</td>\n",
       "      <td>2.0</td>\n",
       "      <td>922</td>\n",
       "      <td>DRUNK ON THE STREET</td>\n",
       "      <td>LOP160731000889</td>\n",
       "      <td>2016-08-01T00:36:46.000</td>\n",
       "    </tr>\n",
       "    <tr>\n",
       "      <th>1046383</th>\n",
       "      <td>OP</td>\n",
       "      <td>2016-07-31T23:45:50.000</td>\n",
       "      <td>P1</td>\n",
       "      <td>02Y</td>\n",
       "      <td>2.0</td>\n",
       "      <td>415GS</td>\n",
       "      <td>415 GUNSHOTS</td>\n",
       "      <td>LOP160731000892</td>\n",
       "      <td>2016-07-31T23:58:03.000</td>\n",
       "    </tr>\n",
       "    <tr>\n",
       "      <th>1046384</th>\n",
       "      <td>OP</td>\n",
       "      <td>2016-07-31T23:50:54.000</td>\n",
       "      <td>P3</td>\n",
       "      <td>26Y</td>\n",
       "      <td>2.0</td>\n",
       "      <td>415N</td>\n",
       "      <td>DISTURBANCE-NEIGHBOR</td>\n",
       "      <td>LOP160731000893</td>\n",
       "      <td>2016-08-01T00:08:00.000</td>\n",
       "    </tr>\n",
       "    <tr>\n",
       "      <th>1046385</th>\n",
       "      <td>OP</td>\n",
       "      <td>2016-07-31T23:56:29.000</td>\n",
       "      <td>P2</td>\n",
       "      <td>19X</td>\n",
       "      <td>2.0</td>\n",
       "      <td>912</td>\n",
       "      <td>SUSPICIOUS PERSON</td>\n",
       "      <td>LOP160731000895</td>\n",
       "      <td>2016-08-01T01:33:31.000</td>\n",
       "    </tr>\n",
       "    <tr>\n",
       "      <th>1046386</th>\n",
       "      <td>OP</td>\n",
       "      <td>2016-07-31T23:57:31.000</td>\n",
       "      <td>P3</td>\n",
       "      <td>29X</td>\n",
       "      <td>2.0</td>\n",
       "      <td>415</td>\n",
       "      <td>415 FAMILY</td>\n",
       "      <td>LOP160731000897</td>\n",
       "      <td>2016-08-01T00:16:16.000</td>\n",
       "    </tr>\n",
       "  </tbody>\n",
       "</table>\n",
       "<p>1046384 rows × 9 columns</p>\n",
       "</div>"
      ],
      "text/plain": [
       "        Agency              Create Time Area Id Beat  Priority  \\\n",
       "0           OP  2011-01-01T00:00:00.000       1  06X       1.0   \n",
       "1           OP  2011-01-01T00:01:11.000       1  07X       1.0   \n",
       "2           OP  2011-01-01T00:01:25.000       1  10Y       2.0   \n",
       "3           OP  2011-01-01T00:01:35.000       2  21Y       2.0   \n",
       "4           OP  2011-01-01T00:02:10.000       2  20X       1.0   \n",
       "...        ...                      ...     ...  ...       ...   \n",
       "1046382     OP  2016-07-31T23:43:51.000      P1  02Y       2.0   \n",
       "1046383     OP  2016-07-31T23:45:50.000      P1  02Y       2.0   \n",
       "1046384     OP  2016-07-31T23:50:54.000      P3  26Y       2.0   \n",
       "1046385     OP  2016-07-31T23:56:29.000      P2  19X       2.0   \n",
       "1046386     OP  2016-07-31T23:57:31.000      P3  29X       2.0   \n",
       "\n",
       "        Incident Type Id Incident Type Description     Event Number  \\\n",
       "0                   PDOA      POSSIBLE DEAD PERSON  LOP110101000001   \n",
       "1                  415GS              415 GUNSHOTS  LOP110101000002   \n",
       "2                  415GS              415 GUNSHOTS  LOP110101000003   \n",
       "3                  415GS              415 GUNSHOTS  LOP110101000005   \n",
       "4                  415GS              415 GUNSHOTS  LOP110101000004   \n",
       "...                  ...                       ...              ...   \n",
       "1046382              922       DRUNK ON THE STREET  LOP160731000889   \n",
       "1046383            415GS              415 GUNSHOTS  LOP160731000892   \n",
       "1046384             415N      DISTURBANCE-NEIGHBOR  LOP160731000893   \n",
       "1046385              912         SUSPICIOUS PERSON  LOP160731000895   \n",
       "1046386              415                415 FAMILY  LOP160731000897   \n",
       "\n",
       "                     Closed Time  \n",
       "0        2011-01-01T00:28:17.000  \n",
       "1        2011-01-01T01:12:56.000  \n",
       "2        2011-01-01T00:07:20.000  \n",
       "3        2011-01-01T00:02:28.000  \n",
       "4        2011-01-01T00:50:04.000  \n",
       "...                          ...  \n",
       "1046382  2016-08-01T00:36:46.000  \n",
       "1046383  2016-07-31T23:58:03.000  \n",
       "1046384  2016-08-01T00:08:00.000  \n",
       "1046385  2016-08-01T01:33:31.000  \n",
       "1046386  2016-08-01T00:16:16.000  \n",
       "\n",
       "[1046384 rows x 9 columns]"
      ]
     },
     "execution_count": 5,
     "metadata": {},
     "output_type": "execute_result"
    }
   ],
   "source": [
    "data"
   ]
  },
  {
   "cell_type": "markdown",
   "metadata": {},
   "source": [
    "## 数据摘要\n",
    "### 标称属性\n",
    "#### (1) Area Id"
   ]
  },
  {
   "cell_type": "code",
   "execution_count": 6,
   "metadata": {},
   "outputs": [],
   "source": [
    "def f1(s,name,upp=None,info=True):\n",
    "    c = s[name].value_counts()\n",
    "    if info:\n",
    "        print(\"共有 \"+str(c.size)+\" 种类 \"+name)\n",
    "    s[name].value_counts().head(20).plot.bar()"
   ]
  },
  {
   "cell_type": "code",
   "execution_count": 7,
   "metadata": {},
   "outputs": [
    {
     "name": "stdout",
     "output_type": "stream",
     "text": [
      "共有 13 种类 Area Id\n"
     ]
    },
    {
     "data": {
      "image/png": "[encoded data removed]",
      "text/plain": [
       "<Figure size 432x288 with 1 Axes>"
      ]
     },
     "metadata": {
      "needs_background": "light"
     },
     "output_type": "display_data"
    }
   ],
   "source": [
    "f1(data,\"Area Id\")"
   ]
  },
  {
   "cell_type": "markdown",
   "metadata": {},
   "source": [
    "#### (2) Beat"
   ]
  },
  {
   "cell_type": "code",
   "execution_count": 8,
   "metadata": {
    "scrolled": true
   },
   "outputs": [
    {
     "name": "stdout",
     "output_type": "stream",
     "text": [
      "共有 58 种类 Beat\n"
     ]
    },
    {
     "data": {
      "image/png": "[encoded data removed]",
      "text/plain": [
       "<Figure size 432x288 with 1 Axes>"
      ]
     },
     "metadata": {
      "needs_background": "light"
     },
     "output_type": "display_data"
    }
   ],
   "source": [
    "f1(data,\"Beat\")"
   ]
  },
  {
   "cell_type": "markdown",
   "metadata": {},
   "source": [
    "#### (3) Incident Type Id & Description"
   ]
  },
  {
   "cell_type": "code",
   "execution_count": 9,
   "metadata": {},
   "outputs": [
    {
     "name": "stdout",
     "output_type": "stream",
     "text": [
      "共有 288 种类 Incident Type Id\n"
     ]
    },
    {
     "data": {
      "image/png": "[encoded data removed]",
      "text/plain": [
       "<Figure size 432x288 with 1 Axes>"
      ]
     },
     "metadata": {
      "needs_background": "light"
     },
     "output_type": "display_data"
    }
   ],
   "source": [
    "f1(data,\"Incident Type Id\")"
   ]
  },
  {
   "cell_type": "code",
   "execution_count": 44,
   "metadata": {},
   "outputs": [
    {
     "name": "stdout",
     "output_type": "stream",
     "text": [
      "共有 288 种类 Incident Type Description\n"
     ]
    },
    {
     "data": {
      "image/png": "[encoded data removed]",
      "text/plain": [
       "<Figure size 432x288 with 1 Axes>"
      ]
     },
     "metadata": {
      "needs_background": "light"
     },
     "output_type": "display_data"
    }
   ],
   "source": [
    "f1(data,\"Incident Type Description\")"
   ]
  },
  {
   "cell_type": "markdown",
   "metadata": {},
   "source": [
    "### 数值属性\n",
    "#### Priority"
   ]
  },
  {
   "cell_type": "code",
   "execution_count": 10,
   "metadata": {},
   "outputs": [],
   "source": [
    "def f2(s,name):\n",
    "    d = s[name].describe()\n",
    "    print(name+\" 五数：\"+str(d[\"min\"])+\", \"+str(d[\"25%\"])+\", \"+str(d[\"50%\"])+\", \"+str(d[\"75%\"])+\", \"+str(d[\"max\"]))\n",
    "    nc = s[name].size - s[name].count()\n",
    "    print(\"缺失值数量：\"+str(nc))"
   ]
  },
  {
   "cell_type": "code",
   "execution_count": 11,
   "metadata": {},
   "outputs": [
    {
     "name": "stdout",
     "output_type": "stream",
     "text": [
      "Priority 五数：0.0, 2.0, 2.0, 2.0, 2.0\n",
      "缺失值数量：0\n"
     ]
    }
   ],
   "source": [
    "f2(data,\"Priority\")"
   ]
  },
  {
   "cell_type": "markdown",
   "metadata": {},
   "source": [
    "## 数据可视化\n",
    "#### Priority"
   ]
  },
  {
   "cell_type": "code",
   "execution_count": 12,
   "metadata": {},
   "outputs": [],
   "source": [
    "def f3(s,name,upp=None):\n",
    "    p = s[name]\n",
    "    if upp is not None:\n",
    "        p = p[p<=upp]\n",
    "    p.plot.hist()"
   ]
  },
  {
   "cell_type": "code",
   "execution_count": 13,
   "metadata": {},
   "outputs": [
    {
     "data": {
      "image/png": "[encoded data removed]",
      "text/plain": [
       "<Figure size 432x288 with 1 Axes>"
      ]
     },
     "metadata": {
      "needs_background": "light"
     },
     "output_type": "display_data"
    }
   ],
   "source": [
    "f3(data,\"Priority\")"
   ]
  },
  {
   "cell_type": "markdown",
   "metadata": {},
   "source": [
    "虽然五数中有最小值 0，但是图上看不出来。以下列表说明 0 的值确实非常少。"
   ]
  },
  {
   "cell_type": "code",
   "execution_count": 14,
   "metadata": {},
   "outputs": [
    {
     "data": {
      "text/plain": [
       "2.0    814818\n",
       "1.0    231542\n",
       "0.0        24\n",
       "Name: Priority, dtype: int64"
      ]
     },
     "execution_count": 14,
     "metadata": {},
     "output_type": "execute_result"
    }
   ],
   "source": [
    "data[\"Priority\"].value_counts()"
   ]
  },
  {
   "cell_type": "markdown",
   "metadata": {},
   "source": [
    "## 数据缺失\n",
    "数值属性没有缺失，但是标称属性 `Area Id` 和 `Beat` 有缺失。"
   ]
  },
  {
   "cell_type": "code",
   "execution_count": 15,
   "metadata": {
    "scrolled": true
   },
   "outputs": [
    {
     "data": {
      "text/plain": [
       "182361"
      ]
     },
     "execution_count": 15,
     "metadata": {},
     "output_type": "execute_result"
    }
   ],
   "source": [
    "data[\"Area Id\"].size - data[\"Area Id\"].count()"
   ]
  },
  {
   "cell_type": "code",
   "execution_count": 16,
   "metadata": {},
   "outputs": [
    {
     "data": {
      "text/plain": [
       "5801"
      ]
     },
     "execution_count": 16,
     "metadata": {},
     "output_type": "execute_result"
    }
   ],
   "source": [
    "data[\"Beat\"].size - data[\"Beat\"].count()"
   ]
  },
  {
   "cell_type": "markdown",
   "metadata": {},
   "source": [
    "#### (1) 将缺失部分剔除"
   ]
  },
  {
   "cell_type": "code",
   "execution_count": 17,
   "metadata": {},
   "outputs": [],
   "source": [
    "data1 = data[data[\"Area Id\"].notna()]\n",
    "data1 = data1[data1[\"Beat\"].notna()]"
   ]
  },
  {
   "cell_type": "code",
   "execution_count": 18,
   "metadata": {},
   "outputs": [
    {
     "data": {
      "text/html": [
       "<div>\n",
       "<style scoped>\n",
       "    .dataframe tbody tr th:only-of-type {\n",
       "        vertical-align: middle;\n",
       "    }\n",
       "\n",
       "    .dataframe tbody tr th {\n",
       "        vertical-align: top;\n",
       "    }\n",
       "\n",
       "    .dataframe thead th {\n",
       "        text-align: right;\n",
       "    }\n",
       "</style>\n",
       "<table border=\"1\" class=\"dataframe\">\n",
       "  <thead>\n",
       "    <tr style=\"text-align: right;\">\n",
       "      <th></th>\n",
       "      <th>Agency</th>\n",
       "      <th>Create Time</th>\n",
       "      <th>Area Id</th>\n",
       "      <th>Beat</th>\n",
       "      <th>Priority</th>\n",
       "      <th>Incident Type Id</th>\n",
       "      <th>Incident Type Description</th>\n",
       "      <th>Event Number</th>\n",
       "      <th>Closed Time</th>\n",
       "    </tr>\n",
       "  </thead>\n",
       "  <tbody>\n",
       "    <tr>\n",
       "      <th>0</th>\n",
       "      <td>OP</td>\n",
       "      <td>2011-01-01T00:00:00.000</td>\n",
       "      <td>1</td>\n",
       "      <td>06X</td>\n",
       "      <td>1.0</td>\n",
       "      <td>PDOA</td>\n",
       "      <td>POSSIBLE DEAD PERSON</td>\n",
       "      <td>LOP110101000001</td>\n",
       "      <td>2011-01-01T00:28:17.000</td>\n",
       "    </tr>\n",
       "    <tr>\n",
       "      <th>1</th>\n",
       "      <td>OP</td>\n",
       "      <td>2011-01-01T00:01:11.000</td>\n",
       "      <td>1</td>\n",
       "      <td>07X</td>\n",
       "      <td>1.0</td>\n",
       "      <td>415GS</td>\n",
       "      <td>415 GUNSHOTS</td>\n",
       "      <td>LOP110101000002</td>\n",
       "      <td>2011-01-01T01:12:56.000</td>\n",
       "    </tr>\n",
       "    <tr>\n",
       "      <th>2</th>\n",
       "      <td>OP</td>\n",
       "      <td>2011-01-01T00:01:25.000</td>\n",
       "      <td>1</td>\n",
       "      <td>10Y</td>\n",
       "      <td>2.0</td>\n",
       "      <td>415GS</td>\n",
       "      <td>415 GUNSHOTS</td>\n",
       "      <td>LOP110101000003</td>\n",
       "      <td>2011-01-01T00:07:20.000</td>\n",
       "    </tr>\n",
       "    <tr>\n",
       "      <th>3</th>\n",
       "      <td>OP</td>\n",
       "      <td>2011-01-01T00:01:35.000</td>\n",
       "      <td>2</td>\n",
       "      <td>21Y</td>\n",
       "      <td>2.0</td>\n",
       "      <td>415GS</td>\n",
       "      <td>415 GUNSHOTS</td>\n",
       "      <td>LOP110101000005</td>\n",
       "      <td>2011-01-01T00:02:28.000</td>\n",
       "    </tr>\n",
       "    <tr>\n",
       "      <th>4</th>\n",
       "      <td>OP</td>\n",
       "      <td>2011-01-01T00:02:10.000</td>\n",
       "      <td>2</td>\n",
       "      <td>20X</td>\n",
       "      <td>1.0</td>\n",
       "      <td>415GS</td>\n",
       "      <td>415 GUNSHOTS</td>\n",
       "      <td>LOP110101000004</td>\n",
       "      <td>2011-01-01T00:50:04.000</td>\n",
       "    </tr>\n",
       "    <tr>\n",
       "      <th>...</th>\n",
       "      <td>...</td>\n",
       "      <td>...</td>\n",
       "      <td>...</td>\n",
       "      <td>...</td>\n",
       "      <td>...</td>\n",
       "      <td>...</td>\n",
       "      <td>...</td>\n",
       "      <td>...</td>\n",
       "      <td>...</td>\n",
       "    </tr>\n",
       "    <tr>\n",
       "      <th>1046382</th>\n",
       "      <td>OP</td>\n",
       "      <td>2016-07-31T23:43:51.000</td>\n",
       "      <td>P1</td>\n",
       "      <td>02Y</td>\n",
       "      <td>2.0</td>\n",
       "      <td>922</td>\n",
       "      <td>DRUNK ON THE STREET</td>\n",
       "      <td>LOP160731000889</td>\n",
       "      <td>2016-08-01T00:36:46.000</td>\n",
       "    </tr>\n",
       "    <tr>\n",
       "      <th>1046383</th>\n",
       "      <td>OP</td>\n",
       "      <td>2016-07-31T23:45:50.000</td>\n",
       "      <td>P1</td>\n",
       "      <td>02Y</td>\n",
       "      <td>2.0</td>\n",
       "      <td>415GS</td>\n",
       "      <td>415 GUNSHOTS</td>\n",
       "      <td>LOP160731000892</td>\n",
       "      <td>2016-07-31T23:58:03.000</td>\n",
       "    </tr>\n",
       "    <tr>\n",
       "      <th>1046384</th>\n",
       "      <td>OP</td>\n",
       "      <td>2016-07-31T23:50:54.000</td>\n",
       "      <td>P3</td>\n",
       "      <td>26Y</td>\n",
       "      <td>2.0</td>\n",
       "      <td>415N</td>\n",
       "      <td>DISTURBANCE-NEIGHBOR</td>\n",
       "      <td>LOP160731000893</td>\n",
       "      <td>2016-08-01T00:08:00.000</td>\n",
       "    </tr>\n",
       "    <tr>\n",
       "      <th>1046385</th>\n",
       "      <td>OP</td>\n",
       "      <td>2016-07-31T23:56:29.000</td>\n",
       "      <td>P2</td>\n",
       "      <td>19X</td>\n",
       "      <td>2.0</td>\n",
       "      <td>912</td>\n",
       "      <td>SUSPICIOUS PERSON</td>\n",
       "      <td>LOP160731000895</td>\n",
       "      <td>2016-08-01T01:33:31.000</td>\n",
       "    </tr>\n",
       "    <tr>\n",
       "      <th>1046386</th>\n",
       "      <td>OP</td>\n",
       "      <td>2016-07-31T23:57:31.000</td>\n",
       "      <td>P3</td>\n",
       "      <td>29X</td>\n",
       "      <td>2.0</td>\n",
       "      <td>415</td>\n",
       "      <td>415 FAMILY</td>\n",
       "      <td>LOP160731000897</td>\n",
       "      <td>2016-08-01T00:16:16.000</td>\n",
       "    </tr>\n",
       "  </tbody>\n",
       "</table>\n",
       "<p>860149 rows × 9 columns</p>\n",
       "</div>"
      ],
      "text/plain": [
       "        Agency              Create Time Area Id Beat  Priority  \\\n",
       "0           OP  2011-01-01T00:00:00.000       1  06X       1.0   \n",
       "1           OP  2011-01-01T00:01:11.000       1  07X       1.0   \n",
       "2           OP  2011-01-01T00:01:25.000       1  10Y       2.0   \n",
       "3           OP  2011-01-01T00:01:35.000       2  21Y       2.0   \n",
       "4           OP  2011-01-01T00:02:10.000       2  20X       1.0   \n",
       "...        ...                      ...     ...  ...       ...   \n",
       "1046382     OP  2016-07-31T23:43:51.000      P1  02Y       2.0   \n",
       "1046383     OP  2016-07-31T23:45:50.000      P1  02Y       2.0   \n",
       "1046384     OP  2016-07-31T23:50:54.000      P3  26Y       2.0   \n",
       "1046385     OP  2016-07-31T23:56:29.000      P2  19X       2.0   \n",
       "1046386     OP  2016-07-31T23:57:31.000      P3  29X       2.0   \n",
       "\n",
       "        Incident Type Id Incident Type Description     Event Number  \\\n",
       "0                   PDOA      POSSIBLE DEAD PERSON  LOP110101000001   \n",
       "1                  415GS              415 GUNSHOTS  LOP110101000002   \n",
       "2                  415GS              415 GUNSHOTS  LOP110101000003   \n",
       "3                  415GS              415 GUNSHOTS  LOP110101000005   \n",
       "4                  415GS              415 GUNSHOTS  LOP110101000004   \n",
       "...                  ...                       ...              ...   \n",
       "1046382              922       DRUNK ON THE STREET  LOP160731000889   \n",
       "1046383            415GS              415 GUNSHOTS  LOP160731000892   \n",
       "1046384             415N      DISTURBANCE-NEIGHBOR  LOP160731000893   \n",
       "1046385              912         SUSPICIOUS PERSON  LOP160731000895   \n",
       "1046386              415                415 FAMILY  LOP160731000897   \n",
       "\n",
       "                     Closed Time  \n",
       "0        2011-01-01T00:28:17.000  \n",
       "1        2011-01-01T01:12:56.000  \n",
       "2        2011-01-01T00:07:20.000  \n",
       "3        2011-01-01T00:02:28.000  \n",
       "4        2011-01-01T00:50:04.000  \n",
       "...                          ...  \n",
       "1046382  2016-08-01T00:36:46.000  \n",
       "1046383  2016-07-31T23:58:03.000  \n",
       "1046384  2016-08-01T00:08:00.000  \n",
       "1046385  2016-08-01T01:33:31.000  \n",
       "1046386  2016-08-01T00:16:16.000  \n",
       "\n",
       "[860149 rows x 9 columns]"
      ]
     },
     "execution_count": 18,
     "metadata": {},
     "output_type": "execute_result"
    }
   ],
   "source": [
    "data1"
   ]
  },
  {
   "cell_type": "code",
   "execution_count": 19,
   "metadata": {},
   "outputs": [
    {
     "data": {
      "image/png": "[encoded data removed]",
      "text/plain": [
       "<Figure size 432x288 with 2 Axes>"
      ]
     },
     "metadata": {
      "needs_background": "light"
     },
     "output_type": "display_data"
    }
   ],
   "source": [
    "plt.subplot(1,2,1)\n",
    "plt.ylim([0,900000])\n",
    "f3(data,\"Priority\")\n",
    "plt.subplot(1,2,2)\n",
    "plt.ylim([0,900000])\n",
    "f3(data1,\"Priority\")"
   ]
  },
  {
   "cell_type": "markdown",
   "metadata": {},
   "source": [
    "#### (2) 用最高频率值来填补缺失值"
   ]
  },
  {
   "cell_type": "code",
   "execution_count": 20,
   "metadata": {},
   "outputs": [],
   "source": [
    "def subplots(f,s,t,name,upp=None,ymax=None):\n",
    "    plt.subplot(1,2,1)\n",
    "    if ymax is not None:\n",
    "        plt.ylim([0,ymax])\n",
    "    f(s,name,upp)\n",
    "    plt.subplot(1,2,2)\n",
    "    if ymax is not None:\n",
    "        plt.ylim([0,ymax])\n",
    "    f(t,name,upp,info=False)"
   ]
  },
  {
   "cell_type": "code",
   "execution_count": 21,
   "metadata": {},
   "outputs": [
    {
     "name": "stdout",
     "output_type": "stream",
     "text": [
      "Area Id 填充值为 1.0\n",
      "Beat 填充值为 04X\n"
     ]
    }
   ],
   "source": [
    "data2 = data.copy(True)\n",
    "v21 = data2[\"Area Id\"].value_counts().index[0]\n",
    "print(\"Area Id 填充值为 \"+str(v21))\n",
    "data2[\"Area Id\"] = data2[\"Area Id\"].fillna(v21)\n",
    "v22 = data2[\"Beat\"].value_counts().index[0]\n",
    "print(\"Beat 填充值为 \"+str(v22))\n",
    "data2[\"Beat\"] = data2[\"Beat\"].fillna(v22)"
   ]
  },
  {
   "cell_type": "code",
   "execution_count": 22,
   "metadata": {
    "scrolled": false
   },
   "outputs": [
    {
     "name": "stdout",
     "output_type": "stream",
     "text": [
      "共有 13 种类 Area Id\n"
     ]
    },
    {
     "data": {
      "image/png": "[encoded data removed]",
      "text/plain": [
       "<Figure size 432x288 with 2 Axes>"
      ]
     },
     "metadata": {
      "needs_background": "light"
     },
     "output_type": "display_data"
    }
   ],
   "source": [
    "subplots(f1,data,data2,\"Area Id\",ymax=490000)"
   ]
  },
  {
   "cell_type": "code",
   "execution_count": 23,
   "metadata": {},
   "outputs": [
    {
     "name": "stdout",
     "output_type": "stream",
     "text": [
      "共有 58 种类 Beat\n"
     ]
    },
    {
     "data": {
      "image/png": "[encoded data removed]",
      "text/plain": [
       "<Figure size 432x288 with 2 Axes>"
      ]
     },
     "metadata": {
      "needs_background": "light"
     },
     "output_type": "display_data"
    }
   ],
   "source": [
    "subplots(f1,data,data2,\"Beat\",ymax=51000)"
   ]
  },
  {
   "cell_type": "markdown",
   "metadata": {},
   "source": [
    "#### (4) 通过数据对象之间的相似性来填补缺失值"
   ]
  },
  {
   "cell_type": "code",
   "execution_count": 24,
   "metadata": {},
   "outputs": [],
   "source": [
    "data4 = data.copy(True)\n",
    "data4[\"Area Id\"]=data4[\"Area Id\"].ffill()\n",
    "data4[\"Beat\"]=data4[\"Beat\"].ffill()"
   ]
  },
  {
   "cell_type": "code",
   "execution_count": 25,
   "metadata": {},
   "outputs": [
    {
     "name": "stdout",
     "output_type": "stream",
     "text": [
      "共有 13 种类 Area Id\n"
     ]
    },
    {
     "data": {
      "image/png": "[encoded data removed]",
      "text/plain": [
       "<Figure size 432x288 with 2 Axes>"
      ]
     },
     "metadata": {
      "needs_background": "light"
     },
     "output_type": "display_data"
    }
   ],
   "source": [
    "subplots(f1,data,data4,\"Area Id\",ymax=490000)"
   ]
  },
  {
   "cell_type": "code",
   "execution_count": 26,
   "metadata": {},
   "outputs": [
    {
     "name": "stdout",
     "output_type": "stream",
     "text": [
      "共有 58 种类 Beat\n"
     ]
    },
    {
     "data": {
      "image/png": "[encoded data removed]",
      "text/plain": [
       "<Figure size 432x288 with 2 Axes>"
      ]
     },
     "metadata": {
      "needs_background": "light"
     },
     "output_type": "display_data"
    }
   ],
   "source": [
    "subplots(f1,data,data4,\"Beat\",ymax=51000)"
   ]
  }
 ],
 "metadata": {
  "kernelspec": {
   "display_name": "Python 3",
   "language": "python",
   "name": "python3"
  },
  "language_info": {
   "codemirror_mode": {
    "name": "ipython",
    "version": 3
   },
   "file_extension": ".py",
   "mimetype": "text/x-python",
   "name": "python",
   "nbconvert_exporter": "python",
   "pygments_lexer": "ipython3",
   "version": "3.7.0"
  }
 },
 "nbformat": 4,
 "nbformat_minor": 4
}
