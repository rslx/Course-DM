{
 "cells": [
  {
   "cell_type": "markdown",
   "metadata": {},
   "source": [
    "# Wine Reviews - Homework 2\n",
    "\n",
    "[GitHub](https://github.com/rslx/Course-DM)"
   ]
  },
  {
   "cell_type": "code",
   "execution_count": 1,
   "metadata": {},
   "outputs": [],
   "source": [
    "import matplotlib.pyplot as plt\n",
    "import numpy as np\n",
    "import pandas as pd"
   ]
  },
  {
   "cell_type": "code",
   "execution_count": 2,
   "metadata": {},
   "outputs": [],
   "source": [
    "data = pd.read_csv('winemag-data-130k-v2.csv')"
   ]
  },
  {
   "cell_type": "code",
   "execution_count": 3,
   "metadata": {
    "scrolled": true
   },
   "outputs": [
    {
     "data": {
      "text/html": [
       "<div>\n",
       "<style scoped>\n",
       "    .dataframe tbody tr th:only-of-type {\n",
       "        vertical-align: middle;\n",
       "    }\n",
       "\n",
       "    .dataframe tbody tr th {\n",
       "        vertical-align: top;\n",
       "    }\n",
       "\n",
       "    .dataframe thead th {\n",
       "        text-align: right;\n",
       "    }\n",
       "</style>\n",
       "<table border=\"1\" class=\"dataframe\">\n",
       "  <thead>\n",
       "    <tr style=\"text-align: right;\">\n",
       "      <th></th>\n",
       "      <th>Unnamed: 0</th>\n",
       "      <th>country</th>\n",
       "      <th>description</th>\n",
       "      <th>designation</th>\n",
       "      <th>points</th>\n",
       "      <th>price</th>\n",
       "      <th>province</th>\n",
       "      <th>region_1</th>\n",
       "      <th>region_2</th>\n",
       "      <th>taster_name</th>\n",
       "      <th>taster_twitter_handle</th>\n",
       "      <th>title</th>\n",
       "      <th>variety</th>\n",
       "      <th>winery</th>\n",
       "    </tr>\n",
       "  </thead>\n",
       "  <tbody>\n",
       "    <tr>\n",
       "      <th>0</th>\n",
       "      <td>0</td>\n",
       "      <td>Italy</td>\n",
       "      <td>Aromas include tropical fruit, broom, brimston...</td>\n",
       "      <td>Vulkà Bianco</td>\n",
       "      <td>87</td>\n",
       "      <td>NaN</td>\n",
       "      <td>Sicily &amp; Sardinia</td>\n",
       "      <td>Etna</td>\n",
       "      <td>NaN</td>\n",
       "      <td>Kerin O’Keefe</td>\n",
       "      <td>@kerinokeefe</td>\n",
       "      <td>Nicosia 2013 Vulkà Bianco  (Etna)</td>\n",
       "      <td>White Blend</td>\n",
       "      <td>Nicosia</td>\n",
       "    </tr>\n",
       "    <tr>\n",
       "      <th>1</th>\n",
       "      <td>1</td>\n",
       "      <td>Portugal</td>\n",
       "      <td>This is ripe and fruity, a wine that is smooth...</td>\n",
       "      <td>Avidagos</td>\n",
       "      <td>87</td>\n",
       "      <td>15.0</td>\n",
       "      <td>Douro</td>\n",
       "      <td>NaN</td>\n",
       "      <td>NaN</td>\n",
       "      <td>Roger Voss</td>\n",
       "      <td>@vossroger</td>\n",
       "      <td>Quinta dos Avidagos 2011 Avidagos Red (Douro)</td>\n",
       "      <td>Portuguese Red</td>\n",
       "      <td>Quinta dos Avidagos</td>\n",
       "    </tr>\n",
       "    <tr>\n",
       "      <th>2</th>\n",
       "      <td>2</td>\n",
       "      <td>US</td>\n",
       "      <td>Tart and snappy, the flavors of lime flesh and...</td>\n",
       "      <td>NaN</td>\n",
       "      <td>87</td>\n",
       "      <td>14.0</td>\n",
       "      <td>Oregon</td>\n",
       "      <td>Willamette Valley</td>\n",
       "      <td>Willamette Valley</td>\n",
       "      <td>Paul Gregutt</td>\n",
       "      <td>@paulgwine</td>\n",
       "      <td>Rainstorm 2013 Pinot Gris (Willamette Valley)</td>\n",
       "      <td>Pinot Gris</td>\n",
       "      <td>Rainstorm</td>\n",
       "    </tr>\n",
       "    <tr>\n",
       "      <th>3</th>\n",
       "      <td>3</td>\n",
       "      <td>US</td>\n",
       "      <td>Pineapple rind, lemon pith and orange blossom ...</td>\n",
       "      <td>Reserve Late Harvest</td>\n",
       "      <td>87</td>\n",
       "      <td>13.0</td>\n",
       "      <td>Michigan</td>\n",
       "      <td>Lake Michigan Shore</td>\n",
       "      <td>NaN</td>\n",
       "      <td>Alexander Peartree</td>\n",
       "      <td>NaN</td>\n",
       "      <td>St. Julian 2013 Reserve Late Harvest Riesling ...</td>\n",
       "      <td>Riesling</td>\n",
       "      <td>St. Julian</td>\n",
       "    </tr>\n",
       "    <tr>\n",
       "      <th>4</th>\n",
       "      <td>4</td>\n",
       "      <td>US</td>\n",
       "      <td>Much like the regular bottling from 2012, this...</td>\n",
       "      <td>Vintner's Reserve Wild Child Block</td>\n",
       "      <td>87</td>\n",
       "      <td>65.0</td>\n",
       "      <td>Oregon</td>\n",
       "      <td>Willamette Valley</td>\n",
       "      <td>Willamette Valley</td>\n",
       "      <td>Paul Gregutt</td>\n",
       "      <td>@paulgwine</td>\n",
       "      <td>Sweet Cheeks 2012 Vintner's Reserve Wild Child...</td>\n",
       "      <td>Pinot Noir</td>\n",
       "      <td>Sweet Cheeks</td>\n",
       "    </tr>\n",
       "    <tr>\n",
       "      <th>...</th>\n",
       "      <td>...</td>\n",
       "      <td>...</td>\n",
       "      <td>...</td>\n",
       "      <td>...</td>\n",
       "      <td>...</td>\n",
       "      <td>...</td>\n",
       "      <td>...</td>\n",
       "      <td>...</td>\n",
       "      <td>...</td>\n",
       "      <td>...</td>\n",
       "      <td>...</td>\n",
       "      <td>...</td>\n",
       "      <td>...</td>\n",
       "      <td>...</td>\n",
       "    </tr>\n",
       "    <tr>\n",
       "      <th>129966</th>\n",
       "      <td>129966</td>\n",
       "      <td>Germany</td>\n",
       "      <td>Notes of honeysuckle and cantaloupe sweeten th...</td>\n",
       "      <td>Brauneberger Juffer-Sonnenuhr Spätlese</td>\n",
       "      <td>90</td>\n",
       "      <td>28.0</td>\n",
       "      <td>Mosel</td>\n",
       "      <td>NaN</td>\n",
       "      <td>NaN</td>\n",
       "      <td>Anna Lee C. Iijima</td>\n",
       "      <td>NaN</td>\n",
       "      <td>Dr. H. Thanisch (Erben Müller-Burggraef) 2013 ...</td>\n",
       "      <td>Riesling</td>\n",
       "      <td>Dr. H. Thanisch (Erben Müller-Burggraef)</td>\n",
       "    </tr>\n",
       "    <tr>\n",
       "      <th>129967</th>\n",
       "      <td>129967</td>\n",
       "      <td>US</td>\n",
       "      <td>Citation is given as much as a decade of bottl...</td>\n",
       "      <td>NaN</td>\n",
       "      <td>90</td>\n",
       "      <td>75.0</td>\n",
       "      <td>Oregon</td>\n",
       "      <td>Oregon</td>\n",
       "      <td>Oregon Other</td>\n",
       "      <td>Paul Gregutt</td>\n",
       "      <td>@paulgwine</td>\n",
       "      <td>Citation 2004 Pinot Noir (Oregon)</td>\n",
       "      <td>Pinot Noir</td>\n",
       "      <td>Citation</td>\n",
       "    </tr>\n",
       "    <tr>\n",
       "      <th>129968</th>\n",
       "      <td>129968</td>\n",
       "      <td>France</td>\n",
       "      <td>Well-drained gravel soil gives this wine its c...</td>\n",
       "      <td>Kritt</td>\n",
       "      <td>90</td>\n",
       "      <td>30.0</td>\n",
       "      <td>Alsace</td>\n",
       "      <td>Alsace</td>\n",
       "      <td>NaN</td>\n",
       "      <td>Roger Voss</td>\n",
       "      <td>@vossroger</td>\n",
       "      <td>Domaine Gresser 2013 Kritt Gewurztraminer (Als...</td>\n",
       "      <td>Gewürztraminer</td>\n",
       "      <td>Domaine Gresser</td>\n",
       "    </tr>\n",
       "    <tr>\n",
       "      <th>129969</th>\n",
       "      <td>129969</td>\n",
       "      <td>France</td>\n",
       "      <td>A dry style of Pinot Gris, this is crisp with ...</td>\n",
       "      <td>NaN</td>\n",
       "      <td>90</td>\n",
       "      <td>32.0</td>\n",
       "      <td>Alsace</td>\n",
       "      <td>Alsace</td>\n",
       "      <td>NaN</td>\n",
       "      <td>Roger Voss</td>\n",
       "      <td>@vossroger</td>\n",
       "      <td>Domaine Marcel Deiss 2012 Pinot Gris (Alsace)</td>\n",
       "      <td>Pinot Gris</td>\n",
       "      <td>Domaine Marcel Deiss</td>\n",
       "    </tr>\n",
       "    <tr>\n",
       "      <th>129970</th>\n",
       "      <td>129970</td>\n",
       "      <td>France</td>\n",
       "      <td>Big, rich and off-dry, this is powered by inte...</td>\n",
       "      <td>Lieu-dit Harth Cuvée Caroline</td>\n",
       "      <td>90</td>\n",
       "      <td>21.0</td>\n",
       "      <td>Alsace</td>\n",
       "      <td>Alsace</td>\n",
       "      <td>NaN</td>\n",
       "      <td>Roger Voss</td>\n",
       "      <td>@vossroger</td>\n",
       "      <td>Domaine Schoffit 2012 Lieu-dit Harth Cuvée Car...</td>\n",
       "      <td>Gewürztraminer</td>\n",
       "      <td>Domaine Schoffit</td>\n",
       "    </tr>\n",
       "  </tbody>\n",
       "</table>\n",
       "<p>129971 rows × 14 columns</p>\n",
       "</div>"
      ],
      "text/plain": [
       "        Unnamed: 0   country  \\\n",
       "0                0     Italy   \n",
       "1                1  Portugal   \n",
       "2                2        US   \n",
       "3                3        US   \n",
       "4                4        US   \n",
       "...            ...       ...   \n",
       "129966      129966   Germany   \n",
       "129967      129967        US   \n",
       "129968      129968    France   \n",
       "129969      129969    France   \n",
       "129970      129970    France   \n",
       "\n",
       "                                              description  \\\n",
       "0       Aromas include tropical fruit, broom, brimston...   \n",
       "1       This is ripe and fruity, a wine that is smooth...   \n",
       "2       Tart and snappy, the flavors of lime flesh and...   \n",
       "3       Pineapple rind, lemon pith and orange blossom ...   \n",
       "4       Much like the regular bottling from 2012, this...   \n",
       "...                                                   ...   \n",
       "129966  Notes of honeysuckle and cantaloupe sweeten th...   \n",
       "129967  Citation is given as much as a decade of bottl...   \n",
       "129968  Well-drained gravel soil gives this wine its c...   \n",
       "129969  A dry style of Pinot Gris, this is crisp with ...   \n",
       "129970  Big, rich and off-dry, this is powered by inte...   \n",
       "\n",
       "                                   designation  points  price  \\\n",
       "0                                 Vulkà Bianco      87    NaN   \n",
       "1                                     Avidagos      87   15.0   \n",
       "2                                          NaN      87   14.0   \n",
       "3                         Reserve Late Harvest      87   13.0   \n",
       "4           Vintner's Reserve Wild Child Block      87   65.0   \n",
       "...                                        ...     ...    ...   \n",
       "129966  Brauneberger Juffer-Sonnenuhr Spätlese      90   28.0   \n",
       "129967                                     NaN      90   75.0   \n",
       "129968                                   Kritt      90   30.0   \n",
       "129969                                     NaN      90   32.0   \n",
       "129970           Lieu-dit Harth Cuvée Caroline      90   21.0   \n",
       "\n",
       "                 province             region_1           region_2  \\\n",
       "0       Sicily & Sardinia                 Etna                NaN   \n",
       "1                   Douro                  NaN                NaN   \n",
       "2                  Oregon    Willamette Valley  Willamette Valley   \n",
       "3                Michigan  Lake Michigan Shore                NaN   \n",
       "4                  Oregon    Willamette Valley  Willamette Valley   \n",
       "...                   ...                  ...                ...   \n",
       "129966              Mosel                  NaN                NaN   \n",
       "129967             Oregon               Oregon       Oregon Other   \n",
       "129968             Alsace               Alsace                NaN   \n",
       "129969             Alsace               Alsace                NaN   \n",
       "129970             Alsace               Alsace                NaN   \n",
       "\n",
       "               taster_name taster_twitter_handle  \\\n",
       "0            Kerin O’Keefe          @kerinokeefe   \n",
       "1               Roger Voss            @vossroger   \n",
       "2             Paul Gregutt           @paulgwine    \n",
       "3       Alexander Peartree                   NaN   \n",
       "4             Paul Gregutt           @paulgwine    \n",
       "...                    ...                   ...   \n",
       "129966  Anna Lee C. Iijima                   NaN   \n",
       "129967        Paul Gregutt           @paulgwine    \n",
       "129968          Roger Voss            @vossroger   \n",
       "129969          Roger Voss            @vossroger   \n",
       "129970          Roger Voss            @vossroger   \n",
       "\n",
       "                                                    title         variety  \\\n",
       "0                       Nicosia 2013 Vulkà Bianco  (Etna)     White Blend   \n",
       "1           Quinta dos Avidagos 2011 Avidagos Red (Douro)  Portuguese Red   \n",
       "2           Rainstorm 2013 Pinot Gris (Willamette Valley)      Pinot Gris   \n",
       "3       St. Julian 2013 Reserve Late Harvest Riesling ...        Riesling   \n",
       "4       Sweet Cheeks 2012 Vintner's Reserve Wild Child...      Pinot Noir   \n",
       "...                                                   ...             ...   \n",
       "129966  Dr. H. Thanisch (Erben Müller-Burggraef) 2013 ...        Riesling   \n",
       "129967                  Citation 2004 Pinot Noir (Oregon)      Pinot Noir   \n",
       "129968  Domaine Gresser 2013 Kritt Gewurztraminer (Als...  Gewürztraminer   \n",
       "129969      Domaine Marcel Deiss 2012 Pinot Gris (Alsace)      Pinot Gris   \n",
       "129970  Domaine Schoffit 2012 Lieu-dit Harth Cuvée Car...  Gewürztraminer   \n",
       "\n",
       "                                          winery  \n",
       "0                                        Nicosia  \n",
       "1                            Quinta dos Avidagos  \n",
       "2                                      Rainstorm  \n",
       "3                                     St. Julian  \n",
       "4                                   Sweet Cheeks  \n",
       "...                                          ...  \n",
       "129966  Dr. H. Thanisch (Erben Müller-Burggraef)  \n",
       "129967                                  Citation  \n",
       "129968                           Domaine Gresser  \n",
       "129969                      Domaine Marcel Deiss  \n",
       "129970                          Domaine Schoffit  \n",
       "\n",
       "[129971 rows x 14 columns]"
      ]
     },
     "execution_count": 3,
     "metadata": {},
     "output_type": "execute_result"
    }
   ],
   "source": [
    "data"
   ]
  },
  {
   "cell_type": "code",
   "execution_count": 4,
   "metadata": {},
   "outputs": [],
   "source": [
    "dataCount = data.shape[0]"
   ]
  },
  {
   "cell_type": "markdown",
   "metadata": {},
   "source": [
    "## 数据集处理\n",
    "\n",
    "根据对数据集的观察，选择 `country`（`C`）、`points`（`E`）、`price`（`P`）、`taster_twitter_handle`（`T`）、`variety`（`V`）这几列数据，其它列数据不采用。\n",
    "\n",
    "将这些数据转换为前缀标签，例如，`country` 值为“Italy”的转换为 `C:Italy` 标签。每个标签赋予一个唯一的 ID。然后，每行数据均转换为 5 个 ID 组成的数组。"
   ]
  },
  {
   "cell_type": "code",
   "execution_count": 5,
   "metadata": {},
   "outputs": [],
   "source": [
    "marks = {}  # id->identifier\n",
    "marksR = {} # identifier->id\n",
    "LP = {1:{}}\n",
    "D = []"
   ]
  },
  {
   "cell_type": "code",
   "execution_count": 6,
   "metadata": {},
   "outputs": [],
   "source": [
    "def initM(row,col,prefix):\n",
    "    k = prefix+\":\"+str(data[col][row])\n",
    "    if k in marksR:\n",
    "        mid = marksR[k]\n",
    "        LP[1][mid] += 1\n",
    "    else:\n",
    "        mid = len(marks)+1\n",
    "        marks[mid] = k\n",
    "        marksR[k] = mid\n",
    "        LP[1][mid] = 1\n",
    "    return mid"
   ]
  },
  {
   "cell_type": "code",
   "execution_count": 7,
   "metadata": {},
   "outputs": [],
   "source": [
    "for i in range(len(data)):\n",
    "    d = []\n",
    "    d.append(initM(i,\"country\",\"C\"))\n",
    "    d.append(initM(i,\"points\",\"E\"))\n",
    "    d.append(initM(i,\"price\",\"P\"))\n",
    "    d.append(initM(i,\"taster_twitter_handle\",\"T\"))\n",
    "    d.append(initM(i,\"variety\",\"V\"))\n",
    "    D.append(d)"
   ]
  },
  {
   "cell_type": "markdown",
   "metadata": {},
   "source": [
    "以下展示前 10 行数据转换为标签 ID 后的形式。"
   ]
  },
  {
   "cell_type": "code",
   "execution_count": 8,
   "metadata": {
    "scrolled": false
   },
   "outputs": [
    {
     "data": {
      "text/plain": [
       "[[1, 2, 3, 4, 5],\n",
       " [6, 2, 7, 8, 9],\n",
       " [10, 2, 11, 12, 13],\n",
       " [10, 2, 14, 15, 16],\n",
       " [10, 2, 17, 12, 18],\n",
       " [19, 2, 7, 20, 21],\n",
       " [1, 2, 22, 4, 23],\n",
       " [24, 2, 25, 8, 26],\n",
       " [27, 2, 28, 15, 26],\n",
       " [24, 2, 29, 8, 13]]"
      ]
     },
     "execution_count": 8,
     "metadata": {},
     "output_type": "execute_result"
    }
   ],
   "source": [
    "D[:10]"
   ]
  },
  {
   "cell_type": "markdown",
   "metadata": {},
   "source": [
    "## 频繁模式\n",
    "\n",
    "设定最低支持度计数为 6500，大约相当于 5%。"
   ]
  },
  {
   "cell_type": "code",
   "execution_count": 9,
   "metadata": {},
   "outputs": [],
   "source": [
    "minsup = 6500"
   ]
  },
  {
   "cell_type": "code",
   "execution_count": 10,
   "metadata": {},
   "outputs": [],
   "source": [
    "L = {1:[]}\n",
    "for u in LP[1].keys():\n",
    "    if (LP[1][u]<minsup):\n",
    "        continue\n",
    "    L[1].append([[u], LP[1][u]])"
   ]
  },
  {
   "cell_type": "code",
   "execution_count": 11,
   "metadata": {
    "scrolled": false
   },
   "outputs": [
    {
     "data": {
      "text/plain": [
       "25"
      ]
     },
     "execution_count": 11,
     "metadata": {},
     "output_type": "execute_result"
    }
   ],
   "source": [
    "len(L[1])"
   ]
  },
  {
   "cell_type": "markdown",
   "metadata": {},
   "source": [
    "发现了 25 个 1 项频繁集。这个数量比较适宜于后续计算。"
   ]
  },
  {
   "cell_type": "code",
   "execution_count": 12,
   "metadata": {},
   "outputs": [],
   "source": [
    "def descM(m):\n",
    "    s = marks[m[0]]\n",
    "    for i in range(1,len(m)):\n",
    "        s += \", \" + marks[m[i]]\n",
    "    return s\n",
    "def printF(k):\n",
    "    for l in sorted(L[k], key=lambda x:x[1], reverse=True):\n",
    "        print(str(l[1]) + \" - \" + descM(l[0]))"
   ]
  },
  {
   "cell_type": "code",
   "execution_count": 13,
   "metadata": {
    "scrolled": false
   },
   "outputs": [
    {
     "name": "stdout",
     "output_type": "stream",
     "text": [
      "54504 - C:US\n",
      "31213 - T:nan\n",
      "25514 - T:@vossroger\n",
      "22093 - C:France\n",
      "19540 - C:Italy\n",
      "17207 - E:88\n",
      "16933 - E:87\n",
      "15410 - E:90\n",
      "15134 - T:@wineschach\n",
      "13272 - V:Pinot Noir\n",
      "12600 - E:86\n",
      "12226 - E:89\n",
      "11753 - V:Chardonnay\n",
      "11359 - E:91\n",
      "10776 - T:@kerinokeefe\n",
      "9613 - E:92\n",
      "9537 - T:@vboone\n",
      "9532 - T:@paulgwine \n",
      "9530 - E:85\n",
      "9472 - V:Cabernet Sauvignon\n",
      "8996 - P:nan\n",
      "8946 - V:Red Blend\n",
      "6940 - P:20.0\n",
      "6915 - V:Bordeaux-style Red Blend\n",
      "6645 - C:Spain\n"
     ]
    }
   ],
   "source": [
    "printF(1)"
   ]
  },
  {
   "cell_type": "code",
   "execution_count": 14,
   "metadata": {},
   "outputs": [],
   "source": [
    "def hasInfrequentSubset(c,k):\n",
    "    return False # Todo"
   ]
  },
  {
   "cell_type": "code",
   "execution_count": 15,
   "metadata": {},
   "outputs": [],
   "source": [
    "def aprioriGen(k):\n",
    "    C = []\n",
    "    for l1 in L[k-1]:\n",
    "        for l2 in L[k-1]:\n",
    "            passed = True\n",
    "            for i in range(0,k-3):\n",
    "                if (l1[0][i]!=l2[0][i]):\n",
    "                    passed = False\n",
    "                    break\n",
    "            if not passed or not l1[0][k-2]<l2[0][k-2]:\n",
    "                continue\n",
    "            c = np.unique(l1[0]+l2[0])\n",
    "            if not hasInfrequentSubset(c,k):\n",
    "                C.append(c)\n",
    "    return C"
   ]
  },
  {
   "cell_type": "code",
   "execution_count": 16,
   "metadata": {},
   "outputs": [],
   "source": [
    "def apriori():\n",
    "    for k in range(2,999):\n",
    "        if not len(L[k-1])>0:\n",
    "            break\n",
    "        L[k] = []\n",
    "        C = aprioriGen(k)\n",
    "        print(str(k)+\" 项频繁集候选项数：\"+str(len(C)))\n",
    "        tmp = 0\n",
    "        for c in C:\n",
    "            count = 0\n",
    "            tmp += 1\n",
    "            for d in D:\n",
    "                passed = True\n",
    "                for mid in c:\n",
    "                    if not d.count(mid)>0:\n",
    "                        passed = False\n",
    "                        break\n",
    "                if not passed:\n",
    "                    continue\n",
    "                count += 1\n",
    "            if count<minsup:\n",
    "                continue\n",
    "            L[k].append([c,count])\n",
    "        print(str(k)+\" 项频繁集数：\"+str(len(L[k])))"
   ]
  },
  {
   "cell_type": "code",
   "execution_count": 17,
   "metadata": {
    "scrolled": true
   },
   "outputs": [
    {
     "name": "stdout",
     "output_type": "stream",
     "text": [
      "2 项频繁集候选项数：300\n",
      "2 项频繁集数：13\n",
      "3 项频繁集候选项数：77\n",
      "3 项频繁集数：0\n"
     ]
    }
   ],
   "source": [
    "apriori()"
   ]
  },
  {
   "cell_type": "markdown",
   "metadata": {},
   "source": [
    "发现了 13 个 2 项频繁集，没有 3 项以上频繁集。\n",
    "1 项频繁集已经在上面输出过。2 项频繁集如下。"
   ]
  },
  {
   "cell_type": "code",
   "execution_count": 18,
   "metadata": {
    "scrolled": true
   },
   "outputs": [
    {
     "name": "stdout",
     "output_type": "stream",
     "text": [
      "19763 - C:US, T:nan\n",
      "18602 - T:@vossroger, C:France\n",
      "10776 - C:Italy, T:@kerinokeefe\n",
      "9885 - C:US, V:Pinot Noir\n",
      "9537 - C:US, T:@vboone\n",
      "9303 - C:US, T:@paulgwine \n",
      "8498 - C:Italy, T:nan\n",
      "7315 - C:US, V:Cabernet Sauvignon\n",
      "7039 - C:US, E:88\n",
      "6801 - C:US, V:Chardonnay\n",
      "6708 - C:US, E:90\n",
      "6632 - E:87, C:US\n",
      "6575 - C:Spain, T:@wineschach\n"
     ]
    }
   ],
   "source": [
    "printF(2)"
   ]
  },
  {
   "cell_type": "markdown",
   "metadata": {},
   "source": [
    "## 关联规则\n",
    "\n",
    "根据发现的 13 个 2 项频繁集，可以写出以下关联规则："
   ]
  },
  {
   "cell_type": "code",
   "execution_count": 19,
   "metadata": {},
   "outputs": [],
   "source": [
    "def getS(k,m):\n",
    "    for l in L[k]:\n",
    "        if (l[0]==m).all():\n",
    "            return l[1]"
   ]
  },
  {
   "cell_type": "code",
   "execution_count": 20,
   "metadata": {
    "scrolled": false
   },
   "outputs": [
    {
     "name": "stdout",
     "output_type": "stream",
     "text": [
      "支持度 0.0829\t置信度 1.0000\tT:@kerinokeefe → C:Italy\n",
      "支持度 0.0734\t置信度 1.0000\tT:@vboone → C:US\n",
      "支持度 0.0506\t置信度 0.9895\tC:Spain → T:@wineschach\n",
      "支持度 0.0716\t置信度 0.9760\tT:@paulgwine  → C:US\n",
      "支持度 0.1431\t置信度 0.8420\tC:France → T:@vossroger\n",
      "支持度 0.0563\t置信度 0.7723\tV:Cabernet Sauvignon → C:US\n",
      "支持度 0.0761\t置信度 0.7448\tV:Pinot Noir → C:US\n",
      "支持度 0.1431\t置信度 0.7291\tT:@vossroger → C:France\n",
      "支持度 0.1521\t置信度 0.6332\tT:nan → C:US\n",
      "支持度 0.0523\t置信度 0.5787\tV:Chardonnay → C:US\n",
      "支持度 0.0829\t置信度 0.5515\tC:Italy → T:@kerinokeefe\n",
      "支持度 0.0516\t置信度 0.4353\tE:90 → C:US\n",
      "支持度 0.0654\t置信度 0.4349\tC:Italy → T:nan\n",
      "支持度 0.0506\t置信度 0.4345\tT:@wineschach → C:Spain\n",
      "支持度 0.0542\t置信度 0.4091\tE:88 → C:US\n",
      "支持度 0.0510\t置信度 0.3917\tE:87 → C:US\n",
      "支持度 0.1521\t置信度 0.3626\tC:US → T:nan\n",
      "支持度 0.0654\t置信度 0.2723\tT:nan → C:Italy\n",
      "支持度 0.0761\t置信度 0.1814\tC:US → V:Pinot Noir\n",
      "支持度 0.0734\t置信度 0.1750\tC:US → T:@vboone\n",
      "支持度 0.0716\t置信度 0.1707\tC:US → T:@paulgwine \n",
      "支持度 0.0563\t置信度 0.1342\tC:US → V:Cabernet Sauvignon\n",
      "支持度 0.0542\t置信度 0.1291\tC:US → E:88\n",
      "支持度 0.0523\t置信度 0.1248\tC:US → V:Chardonnay\n",
      "支持度 0.0516\t置信度 0.1231\tC:US → E:90\n",
      "支持度 0.0510\t置信度 0.1217\tC:US → E:87\n"
     ]
    }
   ],
   "source": [
    "A = []\n",
    "for l in L[2]:\n",
    "    A.append([l[0][0], l[0][1], getS(2,l[0])/dataCount, getS(2,l[0])/getS(1,l[0][0])])\n",
    "    A.append([l[0][1], l[0][0], getS(2,l[0])/dataCount, getS(2,l[0])/getS(1,l[0][1])])\n",
    "A.sort(key=lambda x:x[3], reverse=True)\n",
    "for a in A:\n",
    "    print(\"支持度 %.4f\\t置信度 %.4f\\t%s → %s\"%(a[2],a[3],marks[a[0]],marks[a[1]]))"
   ]
  },
  {
   "cell_type": "markdown",
   "metadata": {},
   "source": [
    "## 规则评价"
   ]
  },
  {
   "cell_type": "code",
   "execution_count": 21,
   "metadata": {
    "scrolled": false
   },
   "outputs": [
    {
     "name": "stdout",
     "output_type": "stream",
     "text": [
      "Lift 4.8599\t全置信度 0.3626\tT:nan → C:US\n",
      "Lift 2.7832\t全置信度 0.3626\tC:US → T:nan\n",
      "Lift 6.4628\t全置信度 0.3413\tC:France → T:@vossroger\n",
      "Lift 5.5962\t全置信度 0.3413\tT:@vossroger → C:France\n",
      "Lift 7.6756\t全置信度 0.1977\tT:@kerinokeefe → C:Italy\n",
      "Lift 4.2330\t全置信度 0.1977\tC:Italy → T:@kerinokeefe\n",
      "Lift 5.7168\t全置信度 0.1814\tV:Pinot Noir → C:US\n",
      "Lift 1.3921\t全置信度 0.1814\tC:US → V:Pinot Noir\n",
      "Lift 7.6756\t全置信度 0.1750\tT:@vboone → C:US\n",
      "Lift 1.3431\t全置信度 0.1750\tC:US → T:@vboone\n",
      "Lift 7.4912\t全置信度 0.1707\tT:@paulgwine  → C:US\n",
      "Lift 1.3101\t全置信度 0.1707\tC:US → T:@paulgwine \n",
      "Lift 3.3381\t全置信度 0.1559\tC:Italy → T:nan\n",
      "Lift 2.0897\t全置信度 0.1559\tT:nan → C:Italy\n",
      "Lift 5.9277\t全置信度 0.1342\tV:Cabernet Sauvignon → C:US\n",
      "Lift 1.0301\t全置信度 0.1342\tC:US → V:Cabernet Sauvignon\n",
      "Lift 3.1399\t全置信度 0.1291\tE:88 → C:US\n",
      "Lift 0.9913\t全置信度 0.1291\tC:US → E:88\n",
      "Lift 4.4416\t全置信度 0.1248\tV:Chardonnay → C:US\n",
      "Lift 0.9578\t全置信度 0.1248\tC:US → V:Chardonnay\n",
      "Lift 3.3412\t全置信度 0.1231\tE:90 → C:US\n",
      "Lift 0.9447\t全置信度 0.1231\tC:US → E:90\n",
      "Lift 3.0062\t全置信度 0.1217\tE:87 → C:US\n",
      "Lift 0.9340\t全置信度 0.1217\tC:US → E:87\n",
      "Lift 7.5947\t全置信度 0.1206\tC:Spain → T:@wineschach\n",
      "Lift 3.3347\t全置信度 0.1206\tT:@wineschach → C:Spain\n"
     ]
    }
   ],
   "source": [
    "for i in range(len(A)):\n",
    "    A[i].append(A[i][3]/(getS(1,a[1])/dataCount))\n",
    "    A[i].append(A[i][2]/(max(getS(1,a[0]),getS(1,a[1]))/dataCount))\n",
    "A.sort(key=lambda x:x[5], reverse=True)\n",
    "for a in A:\n",
    "    print(\"Lift %.4f\\t全置信度 %.4f\\t%s → %s\"%(a[4],a[5],marks[a[0]],marks[a[1]]))"
   ]
  },
  {
   "cell_type": "markdown",
   "metadata": {},
   "source": [
    "较有意义的关联规则包括：\"@vossroger\" 较有可能品尝法国的酒、\"Pinot Noir\" 较有可能产自美国，等。"
   ]
  },
  {
   "cell_type": "markdown",
   "metadata": {},
   "source": [
    "## 支持度与置信度"
   ]
  },
  {
   "cell_type": "code",
   "execution_count": 26,
   "metadata": {},
   "outputs": [
    {
     "data": {
      "text/plain": [
       "Text(0, 0.5, 'confidence')"
      ]
     },
     "execution_count": 26,
     "metadata": {},
     "output_type": "execute_result"
    },
    {
     "data": {
      "image/png": "[encoded data removed]",
      "text/plain": [
       "<Figure size 432x288 with 1 Axes>"
      ]
     },
     "metadata": {
      "needs_background": "light"
     },
     "output_type": "display_data"
    }
   ],
   "source": [
    "plt.scatter(list(map(lambda x:x[2],A)), list(map(lambda x:x[3],A)))\n",
    "plt.xlabel(\"support\")\n",
    "plt.ylabel(\"confidence\")"
   ]
  }
 ],
 "metadata": {
  "kernelspec": {
   "display_name": "Python 3",
   "language": "python",
   "name": "python3"
  },
  "language_info": {
   "codemirror_mode": {
    "name": "ipython",
    "version": 3
   },
   "file_extension": ".py",
   "mimetype": "text/x-python",
   "name": "python",
   "nbconvert_exporter": "python",
   "pygments_lexer": "ipython3",
   "version": "3.7.0"
  }
 },
 "nbformat": 4,
 "nbformat_minor": 4
}
